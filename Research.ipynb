{
 "cells": [
  {
   "cell_type": "code",
   "execution_count": 22,
   "id": "8fb129c9",
   "metadata": {},
   "outputs": [],
   "source": [
    "# importing required library\n",
    "import pymongo  #pip install pymongo"
   ]
  },
  {
   "cell_type": "code",
   "execution_count": 23,
   "id": "b65ac117",
   "metadata": {},
   "outputs": [],
   "source": [
    "# Local server connection url\n",
    "mongo_url = \"mongodb://localhost:27017/\"\n",
    "\n",
    "# Connecting to the MongoDB local server\n",
    "client = pymongo.MongoClient(mongo_url)\n",
    "\n",
    "# Accessing required database and collection\n",
    "db = client[\"sample\"]\n",
    "collection = db[\"research\"]"
   ]
  },
  {
   "cell_type": "markdown",
   "id": "412af90d",
   "metadata": {},
   "source": [
    "### Task 1"
   ]
  },
  {
   "cell_type": "code",
   "execution_count": 24,
   "id": "f51737e0",
   "metadata": {},
   "outputs": [
    {
     "name": "stdout",
     "output_type": "stream",
     "text": [
      "Number of Articles: 501629\n"
     ]
    }
   ],
   "source": [
    "# Calculating number of articles present in the collection\n",
    "num_articles = collection.count_documents({})\n",
    "\n",
    "print(f\"Number of Articles: {num_articles}\")"
   ]
  },
  {
   "cell_type": "code",
   "execution_count": 25,
   "id": "27466e13",
   "metadata": {},
   "outputs": [
    {
     "name": "stdout",
     "output_type": "stream",
     "text": [
      "Number of organisations: 163723\n"
     ]
    }
   ],
   "source": [
    "# Calculating number of unique organisations present in the collection\n",
    "\n",
    "# Creating an aggregation pipeline to count unique organisations\n",
    "pipeline = [\n",
    "    {\"$unwind\": \"$author\"},\n",
    "    {\"$unwind\": \"$author.affiliation\"},\n",
    "    {\"$group\": {\"_id\": \"$author.affiliation.name\"}},\n",
    "    {\"$group\": {\"_id\": None, \"totalAffiliations\": {\"$sum\": 1}}}\n",
    "]\n",
    "\n",
    "# Executing the aggregation pipeline\n",
    "result = list(collection.aggregate(pipeline))\n",
    "total_affiliations = result[0][\"totalAffiliations\"]\n",
    "\n",
    "print(f\"Number of organisations: {total_affiliations}\")"
   ]
  },
  {
   "cell_type": "code",
   "execution_count": 26,
   "id": "893085f0",
   "metadata": {},
   "outputs": [
    {
     "name": "stdout",
     "output_type": "stream",
     "text": [
      "Number of researchers: 215061\n"
     ]
    }
   ],
   "source": [
    "# Calculating number of researchers present in the collection\n",
    "\n",
    "# Creating an aggregation pipeline to count researchers\n",
    "pipeline = [\n",
    "    {\"$unwind\": \"$author\"},\n",
    "    {\"$group\": {\"_id\": \"$author.given\"}},\n",
    "    {\"$group\": {\"_id\": None, \"totalAuthors\": {\"$sum\": 1}}}\n",
    "]\n",
    "\n",
    "# Executing the aggregation pipeline\n",
    "result = list(collection.aggregate(pipeline))\n",
    "total_authors = result[0][\"totalAuthors\"]\n",
    "\n",
    "print(f\"Number of researchers: {total_authors}\")"
   ]
  },
  {
   "cell_type": "markdown",
   "id": "cbd3a3a3",
   "metadata": {},
   "source": [
    "### Task 2"
   ]
  },
  {
   "cell_type": "code",
   "execution_count": 27,
   "id": "16511dcb",
   "metadata": {},
   "outputs": [
    {
     "name": "stdout",
     "output_type": "stream",
     "text": [
      "Top 10 organisations with highest centrality:\n",
      "0.0011478694746340752 University of Wisconsin–Oshkosh , College of Business, Department of Accounting, Oshkosh, WI, USA\n",
      "0.0011478694746340752 Bryant University , College of Business, Department of Accounting, Smithfield, RI, USA\n",
      "0.0011478694746340752 University of Central Arkansas , College of Business, Department of Accounting, Conway, AR, USA\n",
      "0.0011478694746340752 East Carolina University , College of Business, Department of Accounting, Greenville, NC, USA\n",
      "0.0011478694746340752 Colorado State University emeritus, , College of Business, Department of Accounting, Fort Collins, CO, USA\n",
      "0.0011478694746340752 Lewis University , College of Business, Department of Accounting, Romeoville, IL, USA\n",
      "0.0011478694746340752 Lone Star College , College of Business, Department of Accounting, Montgomery, TX, USA\n",
      "0.0011345993072972651 Loyola University Maryland , Sellinger School of Business and Management, Department of Accounting, Baltimore, MD, USA\n",
      "0.0011345993072972651 Central Connecticut State University , School of Business, Department of Accounting, New Britain, CT, USA\n",
      "0.0011345993072972651 The University of Tennessee at Chattanooga , Gary W. Rollins College of Business, Department of Accounting, Chattanooga, TN, USA\n"
     ]
    }
   ],
   "source": [
    "# Importing required library\n",
    "import networkx as nx\n",
    "\n",
    "# Creating an empty graph\n",
    "G = nx.Graph()\n",
    "\n",
    "# Iterating through all documents in the collection\n",
    "data = collection.find()\n",
    "\n",
    "# Finding all the organisations within each document\n",
    "for document in data:\n",
    "    organisations = []\n",
    "    for author in document.get(\"author\", []):\n",
    "        if author.get(\"affiliation\", [{}]):\n",
    "            organisation = author.get(\"affiliation\", [{}])[0].get(\"name\", \"\")\n",
    "            organisations.append(organisation)\n",
    "    \n",
    "    # Adding organisations as nodes to the graph\n",
    "    for organisation in organisations:\n",
    "        G.add_node(organisation)\n",
    "\n",
    "    # Creating connections between organisations that wrote papers together\n",
    "    for i in range(len(organisations)):\n",
    "        for j in range(i + 1, len(organisations)):\n",
    "            if organisations[i] != organisations[j]:\n",
    "                org_i = set(organisations[i].split(\",\"))\n",
    "                org_j = set(organisations[j].split(\",\"))\n",
    "                if org_i.intersection(org_j):\n",
    "                    G.add_edge(organisations[i], organisations[j])\n",
    "\n",
    "# Calculating the centrality of each organisation\n",
    "degree_centrality = nx.degree_centrality(G)\n",
    "\n",
    "# Sorting the organisation based on centrality\n",
    "sorted_organisations = sorted(degree_centrality.items(), key=lambda x: x[1], reverse=True)\n",
    "\n",
    "# Selecting the top 10 organizations\n",
    "top_10_organisations = sorted_organisations[:10]\n",
    "\n",
    "# Printing the top 10 organizations with highest centrality\n",
    "print(\"Top 10 organisations with highest centrality:\")\n",
    "for org, centrality_score in top_10_organisations:\n",
    "    print(centrality_score, org)\n"
   ]
  },
  {
   "cell_type": "code",
   "execution_count": 28,
   "id": "aa1b1cf6",
   "metadata": {},
   "outputs": [
    {
     "name": "stdout",
     "output_type": "stream",
     "text": [
      "Top 10 authors with highest centrality:\n",
      "0.007558795848159102 Amanpreet Brar\n",
      "0.007080170428188758 Arda Isik\n",
      "0.0070614008038761954 Andrey Litvin\n",
      "0.007053356679170812 Muhammed Elhadi\n",
      "0.007053356679170812 Piotr Major\n",
      "0.007053356679170812 Ionut Negoi\n",
      "0.007053356679170812 Francesco Pata\n",
      "0.007053356679170812 Gianluca Pellino\n",
      "0.007053356679170812 Mihail Slavchev\n",
      "0.007053356679170812 Kjetil Soreide\n"
     ]
    }
   ],
   "source": [
    "# Creating an empty graph\n",
    "G2 = nx.Graph()\n",
    "\n",
    "# Iterating through all documents in the collection\n",
    "data = collection.find()\n",
    "\n",
    "# Finding all the authors within each document\n",
    "for document in data:\n",
    "    authors = []\n",
    "    for author in document.get(\"author\", [{}]):\n",
    "        full_name = author.get(\"given\",\"\")+\" \"+author.get(\"family\",\"\")\n",
    "        authors.append(full_name)\n",
    "\n",
    "    # Adding authors as nodes to the graph\n",
    "    for author in authors:\n",
    "        G2.add_node(author)\n",
    "\n",
    "    # Creating connections between authors that wrote papers together\n",
    "    for i in range(len(authors)):\n",
    "        for j in range(i + 1, len(authors)):\n",
    "            if authors[i] != authors[j]:\n",
    "                author_i = set(authors[i])\n",
    "                author_j = set(authors[j])\n",
    "                if author_i.intersection(author_j):\n",
    "                    G2.add_edge(authors[i], authors[j])\n",
    "\n",
    "# Calculating the centrality of each author\n",
    "degree_centrality_auth = nx.degree_centrality(G2)\n",
    "\n",
    "# Sorting the authors based on centrality\n",
    "sorted_authors = sorted(degree_centrality_auth.items(), key=lambda x: x[1], reverse=True)\n",
    "\n",
    "# Selecting the top 10 authors\n",
    "top_10_authors = sorted_authors[1:11]\n",
    "\n",
    "# Printing the top 10 authors with highest centrality\n",
    "print(\"Top 10 authors with highest centrality:\")\n",
    "for auth, centrality_score in top_10_authors:\n",
    "    print(centrality_score, auth)"
   ]
  },
  {
   "cell_type": "markdown",
   "id": "9cbec976",
   "metadata": {},
   "source": [
    "### Task 3"
   ]
  },
  {
   "cell_type": "code",
   "execution_count": 29,
   "id": "b05b374f",
   "metadata": {},
   "outputs": [],
   "source": [
    "# Writing the graph to a file to be visualized in Cytoscape\n",
    "nx.write_graphml(G, \"organisations_graph.graphml\")\n",
    "nx.write_graphml(G2,\"authors_graph.graphml\")"
   ]
  }
 ],
 "metadata": {
  "kernelspec": {
   "display_name": "Python 3 (ipykernel)",
   "language": "python",
   "name": "python3"
  },
  "language_info": {
   "codemirror_mode": {
    "name": "ipython",
    "version": 3
   },
   "file_extension": ".py",
   "mimetype": "text/x-python",
   "name": "python",
   "nbconvert_exporter": "python",
   "pygments_lexer": "ipython3",
   "version": "3.10.9"
  }
 },
 "nbformat": 4,
 "nbformat_minor": 5
}
