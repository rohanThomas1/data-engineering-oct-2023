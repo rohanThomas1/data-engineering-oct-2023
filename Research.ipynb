{
 "cells": [
  {
   "cell_type": "code",
   "execution_count": 1,
   "id": "8fb129c9",
   "metadata": {},
   "outputs": [],
   "source": [
    "# importing required library\n",
    "import pymongo"
   ]
  },
  {
   "cell_type": "code",
   "execution_count": 2,
   "id": "b65ac117",
   "metadata": {},
   "outputs": [],
   "source": [
    "# Local server connection url\n",
    "mongo_url = \"mongodb://localhost:27017/\"\n",
    "\n",
    "# Connecting to the MongoDB local server\n",
    "client = pymongo.MongoClient(mongo_url)\n",
    "\n",
    "# Accessing required database and collection\n",
    "db = client[\"sample\"]\n",
    "collection = db[\"research\"]"
   ]
  },
  {
   "cell_type": "code",
   "execution_count": 3,
   "id": "f51737e0",
   "metadata": {},
   "outputs": [
    {
     "name": "stdout",
     "output_type": "stream",
     "text": [
      "Number of Articles: 501629\n"
     ]
    }
   ],
   "source": [
    "# Calculating number of articles present in the collection\n",
    "num_articles = collection.count_documents({})\n",
    "\n",
    "print(f\"Number of Articles: {num_articles}\")"
   ]
  },
  {
   "cell_type": "code",
   "execution_count": 4,
   "id": "f65b7d40",
   "metadata": {},
   "outputs": [
    {
     "name": "stdout",
     "output_type": "stream",
     "text": [
      "Number of organisations: 163723\n"
     ]
    }
   ],
   "source": [
    "# Calculating number of unique organisations present in the collection\n",
    "\n",
    "# Creating an aggregation pipeline to count unique organisations\n",
    "pipeline = [\n",
    "    {\"$unwind\": \"$author\"},\n",
    "    {\"$unwind\": \"$author.affiliation\"},\n",
    "    {\"$group\": {\"_id\": \"$author.affiliation.name\"}},\n",
    "    {\"$group\": {\"_id\": None, \"totalAffiliations\": {\"$sum\": 1}}}\n",
    "]\n",
    "\n",
    "# Executing the aggregation pipeline\n",
    "result = list(collection.aggregate(pipeline))\n",
    "total_affiliations = result[0][\"totalAffiliations\"]\n",
    "\n",
    "print(f\"Number of organisations: {total_affiliations}\")"
   ]
  },
  {
   "cell_type": "code",
   "execution_count": 5,
   "id": "8cf97692",
   "metadata": {},
   "outputs": [
    {
     "name": "stdout",
     "output_type": "stream",
     "text": [
      "Number of researchers: 215061\n"
     ]
    }
   ],
   "source": [
    "# Calculating number of researchers present in the collection\n",
    "\n",
    "# Creating an aggregation pipeline to count researchers\n",
    "pipeline = [\n",
    "    {\"$unwind\": \"$author\"},\n",
    "    {\"$group\": {\"_id\": \"$author.given\"}},\n",
    "    {\"$group\": {\"_id\": None, \"totalAuthors\": {\"$sum\": 1}}}\n",
    "]\n",
    "\n",
    "# Executing the aggregation pipeline\n",
    "result = list(collection.aggregate(pipeline))\n",
    "total_authors = result[0][\"totalAuthors\"]\n",
    "\n",
    "print(f\"Number of researchers: {total_authors}\")"
   ]
  }
 ],
 "metadata": {
  "kernelspec": {
   "display_name": "Python 3 (ipykernel)",
   "language": "python",
   "name": "python3"
  },
  "language_info": {
   "codemirror_mode": {
    "name": "ipython",
    "version": 3
   },
   "file_extension": ".py",
   "mimetype": "text/x-python",
   "name": "python",
   "nbconvert_exporter": "python",
   "pygments_lexer": "ipython3",
   "version": "3.10.9"
  }
 },
 "nbformat": 4,
 "nbformat_minor": 5
}
